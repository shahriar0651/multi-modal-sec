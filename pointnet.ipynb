{
  "cells": [
    {
      "cell_type": "markdown",
      "metadata": {
        "id": "T2tjt8sqmd9C"
      },
      "source": [
        "# Point cloud classification with PointNet\n",
        "\n",
        "**Author:** [David Griffiths](https://dgriffiths3.github.io)<br>\n",
        "**Date created:** 2020/05/25<br>\n",
        "**Last modified:** 2020/05/26<br>\n",
        "**Description:** Implementation of PointNet for ModelNet10 classification."
      ]
    },
    {
      "cell_type": "markdown",
      "metadata": {
        "id": "93TUbhtVmd9E"
      },
      "source": [
        "# Point cloud classification\n"
      ]
    },
    {
      "cell_type": "markdown",
      "metadata": {
        "id": "-kAEsgv4md9F"
      },
      "source": [
        "## Introduction\n",
        "\n",
        "Classification, detection and segmentation of unordered 3D point sets i.e. point clouds\n",
        "is a core problem in computer vision. This example implements the seminal point cloud\n",
        "deep learning paper [PointNet (Qi et al., 2017)](https://arxiv.org/abs/1612.00593). For a\n",
        "detailed intoduction on PointNet see [this blog\n",
        "post](https://medium.com/@luis_gonzales/an-in-depth-look-at-pointnet-111d7efdaa1a).\n"
      ]
    },
    {
      "cell_type": "markdown",
      "metadata": {
        "id": "-p_GkZmrmd9F"
      },
      "source": [
        "## Setup\n",
        "\n",
        "If using colab first install trimesh with `!pip install trimesh`.\n"
      ]
    },
    {
      "cell_type": "markdown",
      "metadata": {},
      "source": []
    },
    {
      "cell_type": "code",
      "execution_count": null,
      "metadata": {
        "id": "yiwHS18hmd9F"
      },
      "outputs": [],
      "source": [
        "\n",
        "import os\n",
        "import glob\n",
        "import trimesh\n",
        "import numpy as np\n",
        "import tensorflow as tf\n",
        "from tensorflow import keras\n",
        "from tensorflow.keras import layers\n",
        "from matplotlib import pyplot as plt\n",
        "\n",
        "tf.random.set_seed(1234)\n"
      ]
    },
    {
      "cell_type": "code",
      "execution_count": null,
      "metadata": {},
      "outputs": [],
      "source": [
        "run_type = 'demo'\n",
        "# run_type = 'full'"
      ]
    },
    {
      "cell_type": "markdown",
      "metadata": {
        "id": "k6PPSoZUmd9G"
      },
      "source": [
        "## Load dataset\n",
        "\n",
        "We use the ModelNet10 model dataset, the smaller 10 class version of the ModelNet40\n",
        "dataset. First download the data:\n"
      ]
    },
    {
      "cell_type": "code",
      "execution_count": null,
      "metadata": {
        "id": "guEU2JYimd9G"
      },
      "outputs": [],
      "source": [
        "DATA_DIR = tf.keras.utils.get_file(\n",
        "    \"modelnet.zip\",\n",
        "    \"http://3dvision.princeton.edu/projects/2014/3DShapeNets/ModelNet10.zip\",\n",
        "    extract=True,\n",
        ")\n",
        "DATA_DIR = os.path.join(os.path.dirname(DATA_DIR), \"ModelNet10\")\n"
      ]
    },
    {
      "cell_type": "markdown",
      "metadata": {
        "id": "8oVUvT4emd9H"
      },
      "source": [
        "We can use the `trimesh` package to read and visualize the `.off` mesh files.\n"
      ]
    },
    {
      "cell_type": "code",
      "execution_count": null,
      "metadata": {},
      "outputs": [],
      "source": [
        "from pyntcloud import PyntCloud\n",
        "my_point_cloud = PyntCloud.from_file(\"01.off\")\n",
        "points = my_point_cloud.points.sample(1000).values\n",
        "points\n",
        "\n",
        "fig = plt.figure(figsize=(5, 5))\n",
        "ax = fig.add_subplot(111, projection=\"3d\")\n",
        "ax.scatter(points[:, 0], points[:, 1], points[:, 2])\n",
        "ax.set_axis_off()\n",
        "plt.show()\n"
      ]
    },
    {
      "cell_type": "code",
      "execution_count": null,
      "metadata": {},
      "outputs": [],
      "source": []
    },
    {
      "cell_type": "code",
      "execution_count": null,
      "metadata": {},
      "outputs": [],
      "source": [
        "loc = '../data/multimodal/objectnet3d/ObjectNet3D/CAD/off/aeroplane/01.off'\n",
        "mesh = trimesh.load(loc)\n",
        "mesh.show()"
      ]
    },
    {
      "cell_type": "code",
      "execution_count": null,
      "metadata": {},
      "outputs": [],
      "source": [
        "loc = '../data/multimodal/objectnet3d/ObjectNet3D/CAD/off/aeroplane/07.off'\n",
        "mesh = trimesh.load(loc)\n",
        "mesh.show()"
      ]
    },
    {
      "cell_type": "markdown",
      "metadata": {
        "id": "_GwHH4oimd9I"
      },
      "source": [
        "To convert a mesh file to a point cloud we first need to sample points on the mesh\n",
        "surface. `.sample()` performs a unifrom random sampling. Here we sample at 2048 locations\n",
        "and visualize in `matplotlib`.\n"
      ]
    },
    {
      "cell_type": "code",
      "execution_count": null,
      "metadata": {
        "id": "hwsEobDTmd9I"
      },
      "outputs": [],
      "source": [
        "points = mesh.sample(256)\n",
        "fig = plt.figure(figsize=(5, 5))\n",
        "ax = fig.add_subplot(111, projection=\"3d\")\n",
        "ax.scatter(points[:, 0], points[:, 1], points[:, 2])\n",
        "ax.set_axis_off()\n",
        "plt.show()\n"
      ]
    },
    {
      "cell_type": "code",
      "execution_count": null,
      "metadata": {},
      "outputs": [],
      "source": []
    },
    {
      "cell_type": "code",
      "execution_count": null,
      "metadata": {},
      "outputs": [],
      "source": [
        "# DATA_DIR = '/../data/multimodal/objectnet3d/ObjectNet3D/CAD/off/'\n",
        "# mesh = trimesh.load(os.path.join(DATA_DIR, \"/aeroplane/train/01.off\"))\n",
        "# mesh.show()"
      ]
    },
    {
      "cell_type": "code",
      "execution_count": null,
      "metadata": {},
      "outputs": [],
      "source": [
        "# mesh = trimesh.load('../data/multimodal/objectnet3d/ObjectNet3D/CAD/off/aeroplane/train/01.off')\n",
        "# mesh.show()"
      ]
    },
    {
      "cell_type": "code",
      "execution_count": null,
      "metadata": {},
      "outputs": [],
      "source": []
    },
    {
      "cell_type": "code",
      "execution_count": null,
      "metadata": {},
      "outputs": [],
      "source": [
        "# import pandas as pd\n",
        "# pd.read_csv('../data/v2x/intern_data/ambients/trace-NoAttacks.csv')"
      ]
    },
    {
      "cell_type": "code",
      "execution_count": null,
      "metadata": {},
      "outputs": [],
      "source": []
    },
    {
      "cell_type": "code",
      "execution_count": null,
      "metadata": {},
      "outputs": [],
      "source": []
    },
    {
      "cell_type": "code",
      "execution_count": null,
      "metadata": {},
      "outputs": [],
      "source": []
    },
    {
      "cell_type": "markdown",
      "metadata": {
        "id": "sp2YDZ89md9I"
      },
      "source": [
        "To generate a `tf.data.Dataset()` we need to first parse through the ModelNet data\n",
        "folders. Each mesh is loaded and sampled into a point cloud before being added to a\n",
        "standard python list and converted to a `numpy` array. We also store the current\n",
        "enumerate index value as the object label and use a dictionary to recall this later.\n"
      ]
    },
    {
      "cell_type": "code",
      "execution_count": null,
      "metadata": {
        "id": "rXQQBPSxmd9I"
      },
      "outputs": [],
      "source": [
        "\n",
        "#def parse_dataset(num_points=2048):\n",
        "\n",
        "def parse_dataset(num_points=512):\n",
        "\n",
        "    train_points = []\n",
        "    train_labels = []\n",
        "    test_points = []\n",
        "    test_labels = []\n",
        "    class_map = {}\n",
        "    folders = glob.glob(os.path.join(DATA_DIR, \"[!README]*\"))\n",
        "\n",
        "    for i, folder in enumerate(folders):\n",
        "        print(\"processing class: {}\".format(os.path.basename(folder)))\n",
        "        # store folder name with ID so we can retrieve later\n",
        "        class_map[i] = folder.split(\"/\")[-1]\n",
        "        # gather all files\n",
        "        train_files = glob.glob(os.path.join(folder, \"train/*\"))\n",
        "        test_files = glob.glob(os.path.join(folder, \"test/*\"))\n",
        "\n",
        "        for f in train_files:\n",
        "            train_points.append(trimesh.load(f).sample(num_points))\n",
        "            train_labels.append(i)\n",
        "\n",
        "        for f in test_files:\n",
        "            test_points.append(trimesh.load(f).sample(num_points))\n",
        "            test_labels.append(i)\n",
        "\n",
        "    return (\n",
        "        np.array(train_points),\n",
        "        np.array(test_points),\n",
        "        np.array(train_labels),\n",
        "        np.array(test_labels),\n",
        "        class_map,\n",
        "    )\n",
        "\n"
      ]
    },
    {
      "cell_type": "markdown",
      "metadata": {
        "id": "rFqzt2TMmd9J"
      },
      "source": [
        "Set the number of points to sample and batch size and parse the dataset. This can take\n",
        "~5minutes to complete.\n"
      ]
    },
    {
      "cell_type": "code",
      "execution_count": null,
      "metadata": {
        "id": "C28Iv2FNmd9J"
      },
      "outputs": [],
      "source": [
        "# NUM_POINTS = 2048\n",
        "# NUM_CLASSES = 10\n",
        "# BATCH_SIZE = 32\n",
        "\n",
        "NUM_POINTS = 256\n",
        "NUM_CLASSES = 10\n",
        "BATCH_SIZE = 32\n",
        "\n",
        "train_points, test_points, train_labels, test_labels, CLASS_MAP = parse_dataset(\n",
        "    NUM_POINTS\n",
        ")"
      ]
    },
    {
      "cell_type": "code",
      "execution_count": null,
      "metadata": {},
      "outputs": [],
      "source": [
        "CLASS_MAP"
      ]
    },
    {
      "cell_type": "markdown",
      "metadata": {
        "id": "K0ysK6vOmd9J"
      },
      "source": [
        "Our data can now be read into a `tf.data.Dataset()` object. We set the shuffle buffer\n",
        "size to the entire size of the dataset as prior to this the data is ordered by class.\n",
        "Data augmentation is important when working with point cloud data. We create a\n",
        "augmentation function to jitter and shuffle the train dataset.\n"
      ]
    },
    {
      "cell_type": "code",
      "execution_count": null,
      "metadata": {},
      "outputs": [],
      "source": [
        "# adding extra...\n",
        "\n",
        "total_training_samples = train_points.shape[0]\n",
        "total_testing_samples = test_points.shape[0]\n",
        "\n",
        "random_trainig_indices = np.arange(total_training_samples)\n",
        "np.random.shuffle(random_trainig_indices)\n",
        "\n",
        "random_testing_indices = np.arange(total_testing_samples)\n",
        "np.random.shuffle(random_testing_indices)\n",
        "\n",
        "\n",
        "print(f\"No of training samples: {train_points.shape[0]}\")\n",
        "print(f\"No of testing samples: {test_points.shape[0]}\")\n",
        "\n",
        "\n",
        "if run_type == 'demo':\n",
        "    demo_training_samples = 100\n",
        "    demo_testing_samples = 100\n",
        "\n",
        "    random_trainig_indices = random_trainig_indices[0:demo_training_samples]\n",
        "    random_testing_indices = random_testing_indices[0:demo_testing_samples]\n",
        "\n",
        "train_points_selected = train_points[random_trainig_indices]\n",
        "train_labels_selected = train_labels[random_trainig_indices]\n",
        "\n",
        "test_points_selected = test_points[random_testing_indices]\n",
        "test_labels_selected = test_labels[random_testing_indices]\n",
        "\n",
        "print(\"After updating...\")\n",
        "print(f\"No of training samples: {train_points_selected.shape[0]}\")\n",
        "print(f\"No of testing samples: {test_points_selected.shape[0]}\")\n",
        "\n",
        "print(\"Done...!\")\n",
        "print(\"New...\")\n",
        "print(\"Hello...!\")\n",
        "\n",
        "\n"
      ]
    },
    {
      "cell_type": "code",
      "execution_count": null,
      "metadata": {
        "id": "jFmg29qEmd9J"
      },
      "outputs": [],
      "source": [
        "def augment(points, label):\n",
        "    # jitter points\n",
        "    points += tf.random.uniform(points.shape, -0.005, 0.005, dtype=tf.float64)\n",
        "    # shuffle points\n",
        "    points = tf.random.shuffle(points)\n",
        "    return points, label\n",
        "\n",
        "\n",
        "train_dataset = tf.data.Dataset.from_tensor_slices((train_points_selected, train_labels_selected))\n",
        "test_dataset = tf.data.Dataset.from_tensor_slices((test_points_selected, test_labels_selected))\n",
        "\n",
        "train_dataset = train_dataset.shuffle(len(train_points)).map(augment).batch(BATCH_SIZE)\n",
        "test_dataset = test_dataset.shuffle(len(test_points)).batch(BATCH_SIZE)\n"
      ]
    },
    {
      "cell_type": "markdown",
      "metadata": {
        "id": "4spyzFvkmd9K"
      },
      "source": [
        "### Build a model\n",
        "\n",
        "Each convolution and fully-connected layer (with exception for end layers) consits of\n",
        "Convolution / Dense -> Batch Normalization -> ReLU Activation.\n"
      ]
    },
    {
      "cell_type": "code",
      "execution_count": null,
      "metadata": {
        "id": "N2IU_Zuumd9K"
      },
      "outputs": [],
      "source": [
        "\n",
        "def conv_bn(x, filters):\n",
        "    x = layers.Conv1D(filters, kernel_size=1, padding=\"valid\")(x)\n",
        "    x = layers.BatchNormalization(momentum=0.0)(x)\n",
        "    return layers.Activation(\"relu\")(x)\n",
        "\n",
        "\n",
        "def dense_bn(x, filters):\n",
        "    x = layers.Dense(filters)(x)\n",
        "    x = layers.BatchNormalization(momentum=0.0)(x)\n",
        "    return layers.Activation(\"relu\")(x)\n",
        "\n"
      ]
    },
    {
      "cell_type": "markdown",
      "metadata": {
        "id": "3iq_EZUAmd9K"
      },
      "source": [
        "PointNet consists of two core components. The primary MLP network, and the transformer\n",
        "net (T-net). The T-net aims to learn an affine transformation matrix by its own mini\n",
        "network. The T-net is used twice. The first time to transform the input features (n, 3)\n",
        "into a canonical representation. The second is an affine transformation for alignment in\n",
        "feature space (n, 3). As per the original paper we constrain the transformation to be\n",
        "close to an orthogonal matrix (i.e. ||X*X^T - I|| = 0).\n"
      ]
    },
    {
      "cell_type": "code",
      "execution_count": null,
      "metadata": {
        "id": "j50ltH14md9K"
      },
      "outputs": [],
      "source": [
        "\n",
        "class OrthogonalRegularizer(keras.regularizers.Regularizer):\n",
        "    def __init__(self, num_features, l2reg=0.001):\n",
        "        self.num_features = num_features\n",
        "        self.l2reg = l2reg\n",
        "        self.eye = tf.eye(num_features)\n",
        "\n",
        "    def __call__(self, x):\n",
        "        x = tf.reshape(x, (-1, self.num_features, self.num_features))\n",
        "        xxt = tf.tensordot(x, x, axes=(2, 2))\n",
        "        xxt = tf.reshape(xxt, (-1, self.num_features, self.num_features))\n",
        "        return tf.reduce_sum(self.l2reg * tf.square(xxt - self.eye))\n",
        "\n"
      ]
    },
    {
      "cell_type": "markdown",
      "metadata": {
        "id": "VjsSKbh_md9K"
      },
      "source": [
        " We can then define a general function to build T-net layers.\n"
      ]
    },
    {
      "cell_type": "code",
      "execution_count": null,
      "metadata": {
        "id": "NcjuKj_bmd9L"
      },
      "outputs": [],
      "source": [
        "\n",
        "def tnet(inputs, num_features):\n",
        "\n",
        "    # Initalise bias as the indentity matrix\n",
        "    bias = keras.initializers.Constant(np.eye(num_features).flatten())\n",
        "    reg = OrthogonalRegularizer(num_features)\n",
        "\n",
        "    x = conv_bn(inputs, 32)\n",
        "    x = conv_bn(x, 64)\n",
        "    x = conv_bn(x, 512)\n",
        "    x = layers.GlobalMaxPooling1D()(x)\n",
        "    x = dense_bn(x, 256)\n",
        "    x = dense_bn(x, 128)\n",
        "    x = layers.Dense(\n",
        "        num_features * num_features,\n",
        "        kernel_initializer=\"zeros\",\n",
        "        bias_initializer=bias,\n",
        "        activity_regularizer=reg,\n",
        "    )(x)\n",
        "    feat_T = layers.Reshape((num_features, num_features))(x)\n",
        "    # Apply affine transformation to input features\n",
        "    return layers.Dot(axes=(2, 1))([inputs, feat_T])\n",
        "\n"
      ]
    },
    {
      "cell_type": "markdown",
      "metadata": {
        "id": "oVUJFHUMmd9L"
      },
      "source": [
        "The main network can be then implemented in the same manner where the t-net mini models\n",
        "can be dropped in a layers in the graph. Here we replicate the network architecture\n",
        "published in the original paper but with half the number of weights at each layer as we\n",
        "are using the smaller 10 class ModelNet dataset.\n"
      ]
    },
    {
      "cell_type": "code",
      "execution_count": null,
      "metadata": {
        "id": "y449fhWomd9L"
      },
      "outputs": [],
      "source": [
        "inputs = keras.Input(shape=(NUM_POINTS, 3))\n",
        "\n",
        "x = tnet(inputs, 3)\n",
        "x = conv_bn(x, 32)\n",
        "x = conv_bn(x, 32)\n",
        "x = tnet(x, 32)\n",
        "x = conv_bn(x, 32)\n",
        "x = conv_bn(x, 64)\n",
        "x = conv_bn(x, 512)\n",
        "x = layers.GlobalMaxPooling1D()(x)\n",
        "x = dense_bn(x, 256)\n",
        "x = layers.Dropout(0.3)(x)\n",
        "x = dense_bn(x, 128)\n",
        "x = layers.Dropout(0.3)(x)\n",
        "\n",
        "outputs = layers.Dense(NUM_CLASSES, activation=\"softmax\")(x)\n",
        "\n",
        "model = keras.Model(inputs=inputs, outputs=outputs, name=\"pointnet\")\n",
        "model.summary()\n"
      ]
    },
    {
      "cell_type": "code",
      "execution_count": null,
      "metadata": {},
      "outputs": [],
      "source": []
    },
    {
      "cell_type": "markdown",
      "metadata": {
        "id": "BQCEACUEmd9L"
      },
      "source": [
        "### Train model\n",
        "\n",
        "Once the model is defined it can be trained like any other standard classification model\n",
        "using `.compile()` and `.fit()`.\n"
      ]
    },
    {
      "cell_type": "code",
      "execution_count": null,
      "metadata": {
        "id": "nxZar-lpmd9L"
      },
      "outputs": [],
      "source": [
        "model.compile(\n",
        "    loss=\"sparse_categorical_crossentropy\",\n",
        "    optimizer=keras.optimizers.Adam(learning_rate=0.001),\n",
        "    metrics=[\"sparse_categorical_accuracy\"],\n",
        ")\n",
        "\n",
        "model.fit(train_dataset, epochs=2, validation_data=test_dataset)\n"
      ]
    },
    {
      "cell_type": "markdown",
      "metadata": {
        "id": "sZq5JtDWmd9L"
      },
      "source": [
        "## Visualize predictions\n",
        "\n",
        "We can use matplotlib to visualize our trained model performance.\n"
      ]
    },
    {
      "cell_type": "code",
      "execution_count": null,
      "metadata": {
        "id": "N79bvQg5md9L"
      },
      "outputs": [],
      "source": [
        "data = test_dataset.take(1)\n",
        "\n",
        "points, labels = list(data)[0]\n",
        "points = points[:8, ...]\n",
        "labels = labels[:8, ...]\n",
        "\n",
        "# run test data through model\n",
        "preds = model.predict(points)\n",
        "preds = tf.math.argmax(preds, -1)\n",
        "\n",
        "points = points.numpy()\n",
        "\n",
        "# plot points with predicted class and label\n",
        "fig = plt.figure(figsize=(15, 10))\n",
        "for i in range(8):\n",
        "    ax = fig.add_subplot(2, 4, i + 1, projection=\"3d\")\n",
        "    ax.scatter(points[i, :, 0], points[i, :, 1], points[i, :, 2])\n",
        "    ax.set_title(\n",
        "        \"pred: {:}, label: {:}\".format(\n",
        "            CLASS_MAP[preds[i].numpy()], CLASS_MAP[labels.numpy()[i]]\n",
        "        )\n",
        "    )\n",
        "    ax.set_axis_off()\n",
        "plt.show()\n"
      ]
    },
    {
      "cell_type": "code",
      "execution_count": null,
      "metadata": {},
      "outputs": [],
      "source": [
        "print(model.summary())"
      ]
    },
    {
      "cell_type": "code",
      "execution_count": null,
      "metadata": {},
      "outputs": [],
      "source": [
        "from keras.utils.vis_utils import plot_model"
      ]
    },
    {
      "cell_type": "code",
      "execution_count": null,
      "metadata": {},
      "outputs": [],
      "source": [
        "plot_model(model, to_file='plots/pointnet_model_plot.png', show_shapes=True, show_layer_names=True)"
      ]
    },
    {
      "cell_type": "code",
      "execution_count": null,
      "metadata": {},
      "outputs": [],
      "source": [
        "model.save('models/pointnet.h5')"
      ]
    },
    {
      "cell_type": "code",
      "execution_count": null,
      "metadata": {},
      "outputs": [],
      "source": [
        "model.save('models/pointnet')"
      ]
    },
    {
      "cell_type": "code",
      "execution_count": null,
      "metadata": {},
      "outputs": [],
      "source": []
    },
    {
      "cell_type": "code",
      "execution_count": null,
      "metadata": {},
      "outputs": [],
      "source": [
        "import h5py\n",
        "\n",
        "with h5py.File(\"../data/mnist3d/train_point_clouds.h5\", \"r\") as hf:    \n",
        "    a = hf[\"0\"]\n",
        "    b = hf[\"1\"]    \n",
        "    digit_a = (a[\"img\"][:], a[\"points\"][:], a.attrs[\"label\"]) \n",
        "    digit_b = (b[\"img\"][:], b[\"points\"][:], b.attrs[\"label\"]) "
      ]
    },
    {
      "cell_type": "code",
      "execution_count": null,
      "metadata": {},
      "outputs": [],
      "source": [
        "plt.imshow(digit_a[0])"
      ]
    },
    {
      "cell_type": "code",
      "execution_count": null,
      "metadata": {},
      "outputs": [],
      "source": [
        "digit_a[1]"
      ]
    },
    {
      "cell_type": "code",
      "execution_count": null,
      "metadata": {},
      "outputs": [],
      "source": [
        "points = digit_a[1][0::50]\n",
        "fig = plt.figure(figsize=(5, 5))\n",
        "ax = fig.add_subplot(111, projection=\"3d\")\n",
        "ax.scatter(points[:, 0], points[:, 1], points[:, 2])\n",
        "ax.set_axis_off()\n",
        "ax.view_init(15,195)\n",
        "plt.show()"
      ]
    },
    {
      "cell_type": "code",
      "execution_count": null,
      "metadata": {},
      "outputs": [],
      "source": []
    },
    {
      "cell_type": "code",
      "execution_count": null,
      "metadata": {},
      "outputs": [],
      "source": []
    }
  ],
  "metadata": {
    "colab": {
      "name": "pointnet",
      "provenance": [],
      "toc_visible": true
    },
    "kernelspec": {
      "display_name": "Python 3.8.10 ('venv': venv)",
      "language": "python",
      "name": "python3"
    },
    "language_info": {
      "codemirror_mode": {
        "name": "ipython",
        "version": 3
      },
      "file_extension": ".py",
      "mimetype": "text/x-python",
      "name": "python",
      "nbconvert_exporter": "python",
      "pygments_lexer": "ipython3",
      "version": "3.8.10"
    },
    "vscode": {
      "interpreter": {
        "hash": "76b18d0804b1d18cc4a8723b732596a057f641d6427a46ef33e32599b5d9a6a5"
      }
    }
  },
  "nbformat": 4,
  "nbformat_minor": 0
}
